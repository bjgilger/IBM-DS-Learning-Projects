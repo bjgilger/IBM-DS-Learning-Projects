{
 "cells": [
  {
   "cell_type": "markdown",
   "id": "b0093237-fc23-4ba3-a636-8c1e75bf8e15",
   "metadata": {},
   "source": [
    "# Data Science Tools and Ecosystemb"
   ]
  },
  {
   "cell_type": "markdown",
   "id": "44ffbb2d-1311-4c5d-b4e0-c4ac05d4b220",
   "metadata": {},
   "source": [
    "In this notebook, Data Science Tools and Ecosystem are summarized."
   ]
  },
  {
   "cell_type": "markdown",
   "id": "ae7115a2-4d03-472c-94f4-7d46554ef6b1",
   "metadata": {
    "tags": []
   },
   "source": [
    "**Objectives:**\n",
    "+ Popular languages\n",
    "+ Commonly used libraries\n",
    "+ Tools and tables\n",
    "+ Evaluating arithmetic expressions"
   ]
  },
  {
   "cell_type": "markdown",
   "id": "b973cea3-f7fd-42d7-8138-02f149178b87",
   "metadata": {},
   "source": [
    "Some of the popular languages that Data Scientists use are:\n",
    "1. SQL\n",
    "2. R\n",
    "3. Python\n",
    "4. Scala\n",
    "5. Java\n",
    "6. C++"
   ]
  },
  {
   "cell_type": "markdown",
   "id": "b246e306-9c09-4b58-aa29-2e6cab996c4b",
   "metadata": {},
   "source": [
    "Some of the commonly used libraries used by Data Scientists include:\n",
    "1. Numpy\n",
    "2. Pandas\n",
    "3. Matplotlib\n",
    "4. SciKitLearn\n",
    "5. TensorFlow\n",
    "6. Keras\n",
    "7. PyTorch"
   ]
  },
  {
   "cell_type": "markdown",
   "id": "eedfb143-d12e-4813-a94b-a909afa8b7da",
   "metadata": {},
   "source": [
    "| Data Science Tools |\n",
    "|-------|\n",
    "| Jupyter Notebook |\n",
    "| RStudio |\n",
    "| Git |"
   ]
  },
  {
   "cell_type": "markdown",
   "id": "b6b09ec0-61fe-4b3e-8d18-c634866c16e2",
   "metadata": {},
   "source": [
    "### Below are a few examples of evaluating arithmetic expressions in Python"
   ]
  },
  {
   "cell_type": "code",
   "execution_count": 1,
   "id": "a3745595-d3e3-4182-853f-ceaf27672b6c",
   "metadata": {
    "tags": []
   },
   "outputs": [
    {
     "data": {
      "text/plain": [
       "17"
      ]
     },
     "execution_count": 1,
     "metadata": {},
     "output_type": "execute_result"
    }
   ],
   "source": [
    "# This a simple arithmetic expression to mutiply then add integers\n"
   ]
  },
  {
   "cell_type": "code",
   "execution_count": 5,
   "id": "f904b359-c308-4467-a417-199ec7d0e76e",
   "metadata": {
    "tags": []
   },
   "outputs": [
    {
     "data": {
      "text/plain": [
       "33.333333333333336"
      ]
     },
     "execution_count": 5,
     "metadata": {},
     "output_type": "execute_result"
    }
   ],
   "source": [
    "# This will convert 200 minutes to hours by diving by 60\n",
    "200 / 6"
   ]
  },
  {
   "cell_type": "markdown",
   "id": "8a06db7b-405e-4919-809f-be88f67a05bb",
   "metadata": {},
   "source": [
    "## Author\n",
    "John Gilger"
   ]
  },
  {
   "cell_type": "code",
   "execution_count": null,
   "id": "e9d509d2-84cc-4b4c-98af-ea1d954ec77d",
   "metadata": {},
   "outputs": [],
   "source": []
  }
 ],
 "metadata": {
  "kernelspec": {
   "display_name": "Python 3 (ipykernel)",
   "language": "python",
   "name": "python3"
  },
  "language_info": {
   "codemirror_mode": {
    "name": "ipython",
    "version": 3
   },
   "file_extension": ".py",
   "mimetype": "text/x-python",
   "name": "python",
   "nbconvert_exporter": "python",
   "pygments_lexer": "ipython3",
   "version": "3.11.4"
  }
 },
 "nbformat": 4,
 "nbformat_minor": 5
}
